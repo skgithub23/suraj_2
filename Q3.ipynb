{
  "nbformat": 4,
  "nbformat_minor": 0,
  "metadata": {
    "colab": {
      "provenance": []
    },
    "kernelspec": {
      "name": "python3",
      "display_name": "Python 3"
    },
    "language_info": {
      "name": "python"
    }
  },
  "cells": [
    {
      "cell_type": "code",
      "source": [
        "pip install scikeras"
      ],
      "metadata": {
        "colab": {
          "base_uri": "https://localhost:8080/"
        },
        "id": "tGIvNCIzSnWR",
        "outputId": "03bb4efe-557c-4e38-8a76-1c03839639e5"
      },
      "execution_count": 34,
      "outputs": [
        {
          "output_type": "stream",
          "name": "stdout",
          "text": [
            "Requirement already satisfied: scikeras in /usr/local/lib/python3.10/dist-packages (0.12.0)\n",
            "Requirement already satisfied: packaging>=0.21 in /usr/local/lib/python3.10/dist-packages (from scikeras) (24.0)\n",
            "Requirement already satisfied: scikit-learn>=1.0.0 in /usr/local/lib/python3.10/dist-packages (from scikeras) (1.2.2)\n",
            "Requirement already satisfied: numpy>=1.17.3 in /usr/local/lib/python3.10/dist-packages (from scikit-learn>=1.0.0->scikeras) (1.25.2)\n",
            "Requirement already satisfied: scipy>=1.3.2 in /usr/local/lib/python3.10/dist-packages (from scikit-learn>=1.0.0->scikeras) (1.11.4)\n",
            "Requirement already satisfied: joblib>=1.1.1 in /usr/local/lib/python3.10/dist-packages (from scikit-learn>=1.0.0->scikeras) (1.3.2)\n",
            "Requirement already satisfied: threadpoolctl>=2.0.0 in /usr/local/lib/python3.10/dist-packages (from scikit-learn>=1.0.0->scikeras) (3.3.0)\n"
          ]
        }
      ]
    },
    {
      "cell_type": "code",
      "source": [
        "pip install keras==2.12.0"
      ],
      "metadata": {
        "colab": {
          "base_uri": "https://localhost:8080/"
        },
        "id": "rrDOQmApbn7h",
        "outputId": "ed011b1b-7a94-487f-b979-7891b678d7ad"
      },
      "execution_count": 35,
      "outputs": [
        {
          "output_type": "stream",
          "name": "stdout",
          "text": [
            "Requirement already satisfied: keras==2.12.0 in /usr/local/lib/python3.10/dist-packages (2.12.0)\n"
          ]
        }
      ]
    },
    {
      "cell_type": "code",
      "execution_count": 37,
      "metadata": {
        "id": "dnbiH_N2NW1V"
      },
      "outputs": [],
      "source": [
        "import tensorflow as tf\n",
        "from tensorflow.keras.datasets import mnist\n",
        "from tensorflow.keras.models import Sequential\n",
        "from tensorflow.keras.layers import Dense, Flatten\n",
        "from sklearn.model_selection import GridSearchCV\n",
        "from scikeras.wrappers import KerasClassifier, KerasRegressor\n",
        "from keras.wrappers.scikit_learn import KerasClassifier\n",
        "import random\n",
        "import numpy as np"
      ]
    },
    {
      "cell_type": "code",
      "source": [
        "random_seed = 73\n",
        "np.random.seed(random_seed)\n",
        "tf.random.set_seed(random_seed)\n",
        "random.seed(random_seed)"
      ],
      "metadata": {
        "id": "6gzbe-g6Squo"
      },
      "execution_count": 38,
      "outputs": []
    },
    {
      "cell_type": "code",
      "source": [
        "(x_train, y_train), (x_test, y_test) = mnist.load_data()\n",
        "x_train = x_train.astype('float32') / 255.0\n",
        "x_test = x_test.astype('float32') / 255.0\n",
        "x_train = x_train.reshape((-1, 28, 28, 1))\n",
        "x_test = x_test.reshape((-1, 28, 28, 1))"
      ],
      "metadata": {
        "id": "d1lLkqVvS6MY"
      },
      "execution_count": 39,
      "outputs": []
    },
    {
      "cell_type": "markdown",
      "source": [],
      "metadata": {
        "id": "66DNdvXXTrjt"
      }
    },
    {
      "cell_type": "code",
      "source": [
        "#Architecture\n",
        "def create_model(neurons_per_layer=64, activation_function='relu'):\n",
        "    model = Sequential([\n",
        "        Flatten(input_shape=(28, 28, 1)),\n",
        "        Dense(neurons_per_layer, activation=activation_function),\n",
        "        Dense(10, activation='softmax')\n",
        "    ])\n",
        "    model.compile(optimizer='adam',\n",
        "                  loss=tf.keras.losses.SparseCategoricalCrossentropy(),\n",
        "                  metrics=['accuracy'])\n",
        "    return model"
      ],
      "metadata": {
        "id": "s8835IH3S73_"
      },
      "execution_count": 40,
      "outputs": []
    },
    {
      "cell_type": "code",
      "source": [
        "model = KerasClassifier(build_fn=create_model, verbose=0)\n",
        "param_grid = {\n",
        "    'neurons_per_layer': [32, 64, 128,256],\n",
        "    'activation_function': ['relu', 'tanh', 'sigmoid']\n",
        "}\n",
        "grid_search = GridSearchCV(estimator=model, param_grid=param_grid, cv=3, verbose=2)\n",
        "grid_result = grid_search.fit(x_train, y_train)\n"
      ],
      "metadata": {
        "colab": {
          "base_uri": "https://localhost:8080/"
        },
        "id": "D-a1fApYVMJ6",
        "outputId": "36964326-60a0-4584-faab-2b5e01a9f8ee"
      },
      "execution_count": 41,
      "outputs": [
        {
          "output_type": "stream",
          "name": "stderr",
          "text": [
            "<ipython-input-41-97123dfc420f>:2: DeprecationWarning: KerasClassifier is deprecated, use Sci-Keras (https://github.com/adriangb/scikeras) instead. See https://www.adriangb.com/scikeras/stable/migration.html for help migrating.\n",
            "  model = KerasClassifier(build_fn=create_model, verbose=0)\n"
          ]
        },
        {
          "output_type": "stream",
          "name": "stdout",
          "text": [
            "Fitting 3 folds for each of 12 candidates, totalling 36 fits\n",
            "[CV] END .....activation_function=relu, neurons_per_layer=32; total time=   5.0s\n",
            "[CV] END .....activation_function=relu, neurons_per_layer=32; total time=   5.4s\n",
            "[CV] END .....activation_function=relu, neurons_per_layer=32; total time=   5.6s\n",
            "[CV] END .....activation_function=relu, neurons_per_layer=64; total time=   5.2s\n",
            "[CV] END .....activation_function=relu, neurons_per_layer=64; total time=   7.6s\n",
            "[CV] END .....activation_function=relu, neurons_per_layer=64; total time=   5.2s\n",
            "[CV] END ....activation_function=relu, neurons_per_layer=128; total time=   7.4s\n",
            "[CV] END ....activation_function=relu, neurons_per_layer=128; total time=   7.7s\n",
            "[CV] END ....activation_function=relu, neurons_per_layer=128; total time=   6.1s\n",
            "[CV] END ....activation_function=relu, neurons_per_layer=256; total time=  12.8s\n",
            "[CV] END ....activation_function=relu, neurons_per_layer=256; total time=  12.6s\n",
            "[CV] END ....activation_function=relu, neurons_per_layer=256; total time=  15.9s\n",
            "[CV] END .....activation_function=tanh, neurons_per_layer=32; total time=   5.3s\n",
            "[CV] END .....activation_function=tanh, neurons_per_layer=32; total time=   5.6s\n",
            "[CV] END .....activation_function=tanh, neurons_per_layer=32; total time=   7.7s\n",
            "[CV] END .....activation_function=tanh, neurons_per_layer=64; total time=   7.6s\n",
            "[CV] END .....activation_function=tanh, neurons_per_layer=64; total time=   8.0s\n",
            "[CV] END .....activation_function=tanh, neurons_per_layer=64; total time=   8.0s\n",
            "[CV] END ....activation_function=tanh, neurons_per_layer=128; total time=   6.0s\n",
            "[CV] END ....activation_function=tanh, neurons_per_layer=128; total time=   8.0s\n",
            "[CV] END ....activation_function=tanh, neurons_per_layer=128; total time=   7.6s\n",
            "[CV] END ....activation_function=tanh, neurons_per_layer=256; total time=  13.2s\n",
            "[CV] END ....activation_function=tanh, neurons_per_layer=256; total time=   9.4s\n",
            "[CV] END ....activation_function=tanh, neurons_per_layer=256; total time=   7.8s\n",
            "[CV] END ..activation_function=sigmoid, neurons_per_layer=32; total time=   7.8s\n",
            "[CV] END ..activation_function=sigmoid, neurons_per_layer=32; total time=   4.6s\n",
            "[CV] END ..activation_function=sigmoid, neurons_per_layer=32; total time=   8.1s\n",
            "[CV] END ..activation_function=sigmoid, neurons_per_layer=64; total time=   5.1s\n",
            "[CV] END ..activation_function=sigmoid, neurons_per_layer=64; total time=   7.6s\n",
            "[CV] END ..activation_function=sigmoid, neurons_per_layer=64; total time=   9.0s\n",
            "[CV] END .activation_function=sigmoid, neurons_per_layer=128; total time=   7.5s\n",
            "[CV] END .activation_function=sigmoid, neurons_per_layer=128; total time=   7.7s\n",
            "[CV] END .activation_function=sigmoid, neurons_per_layer=128; total time=   9.1s\n",
            "[CV] END .activation_function=sigmoid, neurons_per_layer=256; total time=   7.7s\n",
            "[CV] END .activation_function=sigmoid, neurons_per_layer=256; total time=  12.7s\n",
            "[CV] END .activation_function=sigmoid, neurons_per_layer=256; total time=   8.2s\n"
          ]
        }
      ]
    },
    {
      "cell_type": "code",
      "source": [
        "print(\"Overall Results:\")\n",
        "print(\"Best: %f using %s\" % (grid_result.best_score_, grid_result.best_params_))\n",
        "means = grid_result.cv_results_['mean_test_score']\n",
        "stds = grid_result.cv_results_['std_test_score']\n",
        "params = grid_result.cv_results_['params']\n",
        "for mean, stdev, param in zip(means, stds, params):\n",
        "    print(\"%f (%f) with: %r\" % (mean, stdev, param))\n"
      ],
      "metadata": {
        "colab": {
          "base_uri": "https://localhost:8080/"
        },
        "id": "q1zuAv4dTB4Q",
        "outputId": "3302933d-6a74-41b2-8a4e-baa602fe0a93"
      },
      "execution_count": 44,
      "outputs": [
        {
          "output_type": "stream",
          "name": "stdout",
          "text": [
            "Overall Results:\n",
            "Best: 0.951883 using {'activation_function': 'relu', 'neurons_per_layer': 256}\n",
            "0.925867 (0.005400) with: {'activation_function': 'relu', 'neurons_per_layer': 32}\n",
            "0.936767 (0.003718) with: {'activation_function': 'relu', 'neurons_per_layer': 64}\n",
            "0.945133 (0.001992) with: {'activation_function': 'relu', 'neurons_per_layer': 128}\n",
            "0.951883 (0.001299) with: {'activation_function': 'relu', 'neurons_per_layer': 256}\n",
            "0.921500 (0.001056) with: {'activation_function': 'tanh', 'neurons_per_layer': 32}\n",
            "0.930183 (0.000660) with: {'activation_function': 'tanh', 'neurons_per_layer': 64}\n",
            "0.935700 (0.001724) with: {'activation_function': 'tanh', 'neurons_per_layer': 128}\n",
            "0.937667 (0.000900) with: {'activation_function': 'tanh', 'neurons_per_layer': 256}\n",
            "0.905850 (0.002117) with: {'activation_function': 'sigmoid', 'neurons_per_layer': 32}\n",
            "0.914533 (0.002030) with: {'activation_function': 'sigmoid', 'neurons_per_layer': 64}\n",
            "0.919650 (0.002446) with: {'activation_function': 'sigmoid', 'neurons_per_layer': 128}\n",
            "0.922817 (0.001847) with: {'activation_function': 'sigmoid', 'neurons_per_layer': 256}\n"
          ]
        }
      ]
    },
    {
      "cell_type": "code",
      "source": [
        "activation_functions = ['relu', 'tanh', 'sigmoid']\n",
        "for activation_function in activation_functions:\n",
        "    activation_results = [(mean, std, param) for mean, std, param in zip(means, stds, params) if param['activation_function'] == activation_function]\n",
        "    print(f\"\\nResults for {activation_function.capitalize()} activation:\")\n",
        "    for mean, std, param in activation_results:\n",
        "        print(\"%f (%f) with: %r\" % (mean, std, param))\n",
        "\n",
        "test_acc = grid_search.score(x_test, y_test)\n",
        "print('\\nTest accuracy of the best model:', test_acc)"
      ],
      "metadata": {
        "colab": {
          "base_uri": "https://localhost:8080/"
        },
        "id": "utwcsGzKUq_Y",
        "outputId": "9b44721e-9b37-4a6c-8800-e53bd50dce3e"
      },
      "execution_count": 43,
      "outputs": [
        {
          "output_type": "stream",
          "name": "stdout",
          "text": [
            "\n",
            "Results for Relu activation:\n",
            "0.925867 (0.005400) with: {'activation_function': 'relu', 'neurons_per_layer': 32}\n",
            "0.936767 (0.003718) with: {'activation_function': 'relu', 'neurons_per_layer': 64}\n",
            "0.945133 (0.001992) with: {'activation_function': 'relu', 'neurons_per_layer': 128}\n",
            "0.951883 (0.001299) with: {'activation_function': 'relu', 'neurons_per_layer': 256}\n",
            "\n",
            "Results for Tanh activation:\n",
            "0.921500 (0.001056) with: {'activation_function': 'tanh', 'neurons_per_layer': 32}\n",
            "0.930183 (0.000660) with: {'activation_function': 'tanh', 'neurons_per_layer': 64}\n",
            "0.935700 (0.001724) with: {'activation_function': 'tanh', 'neurons_per_layer': 128}\n",
            "0.937667 (0.000900) with: {'activation_function': 'tanh', 'neurons_per_layer': 256}\n",
            "\n",
            "Results for Sigmoid activation:\n",
            "0.905850 (0.002117) with: {'activation_function': 'sigmoid', 'neurons_per_layer': 32}\n",
            "0.914533 (0.002030) with: {'activation_function': 'sigmoid', 'neurons_per_layer': 64}\n",
            "0.919650 (0.002446) with: {'activation_function': 'sigmoid', 'neurons_per_layer': 128}\n",
            "0.922817 (0.001847) with: {'activation_function': 'sigmoid', 'neurons_per_layer': 256}\n",
            "\n",
            "Test accuracy of the best model: 0.9661999940872192\n"
          ]
        }
      ]
    }
  ]
}